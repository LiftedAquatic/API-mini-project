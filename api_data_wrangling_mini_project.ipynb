{
 "cells": [
  {
   "cell_type": "markdown",
   "metadata": {},
   "source": [
    "This exercise will require you to pull some data from the Qunadl API. Qaundl is currently the most widely used aggregator of financial market data."
   ]
  },
  {
   "cell_type": "markdown",
   "metadata": {},
   "source": [
    "As a first step, you will need to register a free account on the http://www.quandl.com website."
   ]
  },
  {
   "cell_type": "markdown",
   "metadata": {},
   "source": [
    "After you register, you will be provided with a unique API key, that you should store:"
   ]
  },
  {
   "cell_type": "code",
   "execution_count": 54,
   "metadata": {
    "collapsed": true,
    "jupyter": {
     "outputs_hidden": true
    }
   },
   "outputs": [],
   "source": [
    "# Store the API key as a string - according to PEP8, constants are always named in all upper case\n",
    "API_KEY = '______'"
   ]
  },
  {
   "cell_type": "markdown",
   "metadata": {},
   "source": [
    "Qaundl has a large number of data sources, but, unfortunately, most of them require a Premium subscription. Still, there are also a good number of free datasets."
   ]
  },
  {
   "cell_type": "markdown",
   "metadata": {},
   "source": [
    "For this mini project, we will focus on equities data from the Frankfurt Stock Exhange (FSE), which is available for free. We'll try and analyze the stock prices of a company called Carl Zeiss Meditec, which manufactures tools for eye examinations, as well as medical lasers for laser eye surgery: https://www.zeiss.com/meditec/int/home.html. The company is listed under the stock ticker AFX_X."
   ]
  },
  {
   "cell_type": "code",
   "execution_count": null,
   "metadata": {},
   "outputs": [],
   "source": []
  },
  {
   "cell_type": "markdown",
   "metadata": {},
   "source": [
    "You can find the detailed Quandl API instructions here: https://docs.quandl.com/docs/time-series"
   ]
  },
  {
   "cell_type": "markdown",
   "metadata": {},
   "source": [
    "While there is a dedicated Python package for connecting to the Quandl API, we would prefer that you use the *requests* package, which can be easily downloaded using *pip* or *conda*. You can find the documentation for the package here: http://docs.python-requests.org/en/master/ "
   ]
  },
  {
   "cell_type": "markdown",
   "metadata": {},
   "source": [
    "Finally, apart from the *requests* package, you are encouraged to not use any third party Python packages, such as *pandas*, and instead focus on what's available in the Python Standard Library (the *collections* module might come in handy: https://pymotw.com/3/collections/ ).\n",
    "Also, since you won't have access to DataFrames, you are encouraged to us Python's native data structures - preferably dictionaries, though some questions can also be answered using lists.\n",
    "You can read more on these data structures here: https://docs.python.org/3/tutorial/datastructures.html"
   ]
  },
  {
   "cell_type": "markdown",
   "metadata": {},
   "source": [
    "Keep in mind that the JSON responses you will be getting from the API map almost one-to-one to Python's dictionaries. Unfortunately, they can be very nested, so make sure you read up on indexing dictionaries in the documentation provided above."
   ]
  },
  {
   "cell_type": "code",
   "execution_count": 1,
   "metadata": {
    "collapsed": true,
    "jupyter": {
     "outputs_hidden": true
    }
   },
   "outputs": [],
   "source": [
    "# First, import the relevant modules\n",
    "import requests\n",
    "import collections\n",
    "import json\n",
    "\n"
   ]
  },
  {
   "cell_type": "markdown",
   "metadata": {},
   "source": [
    "Note: API's can change a bit with each version, for this exercise it is reccomended to use the \"V3\" quandl api at `https://www.quandl.com/api/v3/`"
   ]
  },
  {
   "cell_type": "code",
   "execution_count": 2,
   "metadata": {
    "collapsed": true,
    "jupyter": {
     "outputs_hidden": true
    }
   },
   "outputs": [
    {
     "data": {
      "text/plain": "200"
     },
     "execution_count": 2,
     "metadata": {},
     "output_type": "execute_result"
    }
   ],
   "source": [
    "\n",
    "# Now, call the Quandl API and pull out a small sample of the data (only one day) to get a glimpse\n",
    "r = requests.get(\"https://www.quandl.com/api/v3/datasets/FSE/AFX_X/data.json?api_key=smteTR_umK3Fn2ekXrxG\")\n",
    "\n",
    "# into the JSON structure that will be returned\n",
    "r.status_code\n"
   ]
  },
  {
   "cell_type": "code",
   "execution_count": 3,
   "metadata": {
    "collapsed": true,
    "jupyter": {
     "outputs_hidden": true
    }
   },
   "outputs": [
    {
     "data": {
      "text/plain": "dict"
     },
     "execution_count": 3,
     "metadata": {},
     "output_type": "execute_result"
    }
   ],
   "source": [
    "# Inspect the JSON structure of the object you created, and take note of how nested it is,\n",
    "# as well as the overall structure\n",
    "r_json = r.json()\n",
    "type(r_json)\n",
    "\n",
    "\n"
   ]
  },
  {
   "cell_type": "markdown",
   "metadata": {},
   "source": [
    "These are your tasks for this mini project:\n",
    "\n",
    "1. Collect data from the Franfurt Stock Exchange, for the ticker AFX_X, for the whole year 2017 (keep in mind that the date format is YYYY-MM-DD).\n",
    "2. Convert the returned JSON object into a Python dictionary.\n",
    "3. Calculate what the highest and lowest opening prices were for the stock in this period.\n",
    "4. What was the largest change in any one day (based on High and Low price)?\n",
    "5. What was the largest change between any two days (based on Closing Price)?\n",
    "6. What was the average daily trading volume during this year?\n",
    "7. (Optional) What was the median trading volume during this year. (Note: you may need to implement your own function for calculating the median.)"
   ]
  },
  {
   "cell_type": "code",
   "execution_count": 4,
   "metadata": {
    "collapsed": true,
    "jupyter": {
     "outputs_hidden": true
    }
   },
   "outputs": [
    {
     "data": {
      "text/plain": "dict"
     },
     "execution_count": 4,
     "metadata": {},
     "output_type": "execute_result"
    }
   ],
   "source": [
    "# 1 & 2\n",
    "# retrieving the data and converting to a python dictionary \n",
    "rr = requests.get(\"https://www.quandl.com/api/v3/datasets/FSE/AFX_X.json?&start_date=2017-01-01&end_date=2017-12-31&api_key=smteTR_umK3Fn2ekXrxG\")\n",
    "stock_info = rr.json()\n",
    "type(stock_info)\n"
   ]
  },
  {
   "cell_type": "code",
   "execution_count": 5,
   "metadata": {},
   "outputs": [
    {
     "name": "stdout",
     "output_type": "stream",
     "text": [
      "The highest open price was 53.11\n",
      "The lowest open price was 34.0\n"
     ]
    }
   ],
   "source": [
    "# 3: Calculate what the highest and lowest opening prices were for the stock in this period\n",
    "\n",
    "# access the nested dictionary where 'data' is the key and each date are the values\n",
    "nested = stock_info['dataset']\n",
    "nest = nested['data'] # 'nest' is now a list of lists containing our target information \n",
    "\n",
    "# create a list where each date's open price is an item in the list\n",
    "nu_list = []\n",
    "for i in nest:\n",
    "    nu_list.append(i[1])\n",
    "\n",
    "# create a list of all the open prices, take out 'None' values\n",
    "open_prices = []\n",
    "for i in nu_list:\n",
    "    if type(i) == float:\n",
    "        open_prices.append(i)\n",
    "\n",
    "# print the max and min price of all open prices\n",
    "highest = max(open_prices) # 53.11\n",
    "lowest = min(open_prices) # 34.0\n",
    "print('The highest open price was' + ' ' + str(highest))\n",
    "print('The lowest open price was' + ' ' + str(lowest))\n",
    "    "
   ]
  },
  {
   "cell_type": "code",
   "execution_count": 6,
   "metadata": {},
   "outputs": [
    {
     "name": "stdout",
     "output_type": "stream",
     "text": [
      "The largest single day price change was 2.81\n"
     ]
    }
   ],
   "source": [
    "# 4: What was the largest change in any one day (based on High and Low price)?\n",
    "\n",
    "#create a list of the difference between high and low price for each day \n",
    "hi_lo_diff = []\n",
    "for i in nest:\n",
    "    hi_lo_diff.append(i[2] - i[3])\n",
    "\n",
    "# find and print maximum price change \n",
    "largest_change = round(max(hi_lo_diff), 2) # 2.81\n",
    "print('The largest single day price change was' + ' ' + str(largest_change))\n"
   ]
  },
  {
   "cell_type": "code",
   "execution_count": 7,
   "metadata": {},
   "outputs": [
    {
     "name": "stdout",
     "output_type": "stream",
     "text": [
      "The largest difference in closing price of any two consecutive days was 1.72 between 2017-05-10 and 2017-05-11\n",
      "The largest difference in closing price of any two days was 19.03\n"
     ]
    }
   ],
   "source": [
    "# 5: What was the largest change between any two days (based on Closing Price)?\n",
    "\n",
    "# create list of each days closing price and a list of dates \n",
    "closing_prices = []\n",
    "dates = []\n",
    "for i in nest:\n",
    "    closing_prices.append(i[4])\n",
    "    dates.append(i[0])\n",
    "\n",
    "# create list of price difference from day to day(consecutive)\n",
    "day_to_day_diff = []\n",
    "for i in range(0, len(closing_prices)-1):\n",
    "    x = closing_prices[i] - closing_prices[i+1]\n",
    "    day_to_day_diff.append(x)\n",
    "\n",
    "# find the maximum value from our day_to_day_diff list and use its index to find the date(s) which it occured\n",
    "(m,i) = max((v,i) for i,v in enumerate(day_to_day_diff))\n",
    "days_of_greatest_diff = dates[i], dates[i+1]\n",
    "day2, day1 = days_of_greatest_diff\n",
    "\n",
    "\n",
    "#calculate and print the rounded maximum price differnce between consecutive days \n",
    "largest_day_day_diff = round(abs(max(day_to_day_diff)), 2) # 1.72\n",
    "print('The largest difference in closing price of any two consecutive days was' + ' ' + str(largest_day_day_diff) + ' between ' + day1 + ' and ' + day2)\n",
    "\n",
    "# find and print price different between highest and lowest close of the year \n",
    "biggest_change = max(closing_prices) - min(closing_prices) # 19.03\n",
    "print('The largest difference in closing price of any two days was' + ' ' + str(biggest_change))\n"
   ]
  },
  {
   "cell_type": "code",
   "execution_count": 8,
   "metadata": {},
   "outputs": [
    {
     "name": "stdout",
     "output_type": "stream",
     "text": [
      "The average daily trading volume was 89124.34\n"
     ]
    }
   ],
   "source": [
    "# 6: What was the average daily trading volume during this year?\n",
    "\n",
    "# create list of each days trading volume \n",
    "daily_volume = []\n",
    "for i in nest:\n",
    "    daily_volume.append(i[6])\n",
    "\n",
    "# find mean of the list\n",
    "average_daily_volume = sum(daily_volume) / len(daily_volume) # 89124.34\n",
    "\n",
    "print('The average daily trading volume was' + ' ' + str(round(average_daily_volume, 2)))\n"
   ]
  },
  {
   "cell_type": "code",
   "execution_count": 9,
   "metadata": {},
   "outputs": [
    {
     "name": "stdout",
     "output_type": "stream",
     "text": [
      "The median daily trading volume this year was 76286.0\n"
     ]
    }
   ],
   "source": [
    "# 7: What was the median trading volume during this year?\n",
    "\n",
    "# sort the daily trading volume list from smallest to largest \n",
    "sorted_volume = sorted(daily_volume)\n",
    "\n",
    "# create function that find the middle valu if the length of the sorted list is odd or the mean of the middle two values if length of list is even\n",
    "def median(lst):   \n",
    "    mid = int(len(lst)/ 2)\n",
    "    if len(lst) % 2:\n",
    "        return lst[mid]\n",
    "    else:  \n",
    "        mids = [lst[mid-1], lst[mid]]\n",
    "        return sum(mids) / len(mids)\n",
    "\n",
    "median_volume = median(sorted_volume) #76286.0\n",
    "print('The median daily trading volume this year was' + ' ' + str(median_volume))\n"
   ]
  },
  {
   "cell_type": "code",
   "execution_count": null,
   "metadata": {},
   "outputs": [],
   "source": []
  }
 ],
 "metadata": {
  "kernelspec": {
   "display_name": "Python 3.8.8 64-bit ('base': conda)",
   "name": "python388jvsc74a57bd0dca0ade3e726a953b501b15e8e990130d2b7799f14cfd9f4271676035ebe5511"
  },
  "language_info": {
   "codemirror_mode": {
    "name": "ipython",
    "version": 3
   },
   "file_extension": ".py",
   "mimetype": "text/x-python",
   "name": "python",
   "nbconvert_exporter": "python",
   "pygments_lexer": "ipython3",
   "version": "3.8.8"
  },
  "orig_nbformat": 3
 },
 "nbformat": 4,
 "nbformat_minor": 4
}